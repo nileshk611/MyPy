{
 "cells": [
  {
   "cell_type": "markdown",
   "metadata": {},
   "source": [
    "Hi, This python program reads json format schema obtained from Google Bigquery (by bq prettyjson command) which is stored in a excel sheet and then it eliminates the unwanted lines and only reads the json schema, then it converts the json schema to a simplified version of Columns and Datatype as seen in the o/p. The o/p is again stored in the same excel workbook in a new sheet. Hope this is helpful."
   ]
  },
  {
   "cell_type": "code",
   "execution_count": 7,
   "metadata": {},
   "outputs": [
    {
     "name": "stdout",
     "output_type": "stream",
     "text": [
      "Start\n",
      "0               tracking_id STRING\n",
      "1             appliance_Key STRING\n",
      "2              appliance_Id STRING\n",
      "3    appliance_serialnumber STRING\n",
      "4    appliance_PurchaseDate STRING\n",
      "5        lastActivationDate STRING\n",
      "6       firstActivationDate STRING\n",
      "dtype: object\n"
     ]
    }
   ],
   "source": [
    "import pandas as pd\n",
    "import re\n",
    "import json\n",
    "from openpyxl import load_workbook\n",
    "l=[]\n",
    "print('Start')\n",
    "df = pd.read_excel(\"conv_json_sql.xlsx\") #Read the error file through a input.\n",
    "for index, row in df.iterrows(): #Iterates thru the file\n",
    "    try: \n",
    "        str = (row['Description'])\n",
    "        x_st = [m.start() for m in re.finditer(r\"\\[\",str)] #This is to find the position of the [\n",
    "        y_en = [m.start() for m in re.finditer(r\"\\]\",str)] #This is to find the position of the ]\n",
    "        #The position is obtained so we can have only the json format between [ and ]\n",
    "        #print(x_st)\n",
    "        #print(y_en)\n",
    "        x_in = x_st[0] #Take the first position from the list\n",
    "        y_in = y_en[0] + 1 #Take the first position from the list\n",
    "        str_op = str[x_in:y_in] #slice to get only between [ and ]\n",
    "        #print(str_op)\n",
    "        #This is done because when you write this to a file, in this excel it adds \\n and \\ for \"\"\n",
    "        str_op1 = str_op.replace('\\n','') \n",
    "        str_op2 = str_op1.replace('\"',\"'\")\n",
    "        str_op3 = eval(str_op2) #This gives us a proper json format o/p read between[ and ] which we can write to a file.\n",
    "        with open('person1.json', 'w') as json_file:\n",
    "         json.dump(str_op3, json_file)\n",
    "        df1 = pd.read_json(\"person1.json\") #Read the json file to get the desired o/p in rows and column format.\n",
    "        #print(df1)\n",
    "        l= [\"name\",\"type\",\"mode\"]\n",
    "        #len_1 = df1.shape[0] no of rows\n",
    "        #print(len_1)\n",
    "        for row in df1.iterrows():\n",
    "           \n",
    "            df2 = df1[\"name\"]+' '+df1[\"type\"] #This can be in whatever format you need, i need column_name space and then datatype.\n",
    "              \n",
    "        print(df2)\n",
    "        #o/p is copied to the same workbook in a different sheet.\n",
    "        book = load_workbook('conv_json_sql.xlsx')\n",
    "        writer = pd.ExcelWriter('conv_json_sql.xlsx',engine = 'openpyxl')\n",
    "        writer.book = book\n",
    "        df2.to_excel(writer,sheet_name = 'New Sheet',index=False,header=False) #header is false to not display the index numbers in the excel sheet.\n",
    "        writer.save()\n",
    "        writer.close()\n",
    "        \n",
    "        #print(str_op3)\n",
    "        \n",
    "    except ValueError:\n",
    "        print('Error!')\t\n",
    "\n",
    "\n",
    "\n"
   ]
  },
  {
   "cell_type": "markdown",
   "metadata": {},
   "source": [
    "The input and output is shown in the excel - conv_json_sql.xlsx"
   ]
  },
  {
   "cell_type": "code",
   "execution_count": null,
   "metadata": {},
   "outputs": [],
   "source": []
  }
 ],
 "metadata": {
  "kernelspec": {
   "display_name": "Python 3",
   "language": "python",
   "name": "python3"
  },
  "language_info": {
   "codemirror_mode": {
    "name": "ipython",
    "version": 3
   },
   "file_extension": ".py",
   "mimetype": "text/x-python",
   "name": "python",
   "nbconvert_exporter": "python",
   "pygments_lexer": "ipython3",
   "version": "3.7.3"
  }
 },
 "nbformat": 4,
 "nbformat_minor": 2
}
