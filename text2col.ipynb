{
 "cells": [
  {
   "cell_type": "code",
   "execution_count": 1,
   "metadata": {},
   "outputs": [
    {
     "name": "stdout",
     "output_type": "stream",
     "text": [
      "                   Columns\n",
      "               campaign_id\n",
      "             campaign_type\n",
      "                      name\n",
      "               description\n",
      "                    prefix\n",
      "                 cancelled\n",
      "          primary_offer_id\n",
      "        secondary_offer_id\n",
      "        primary_product_id\n",
      "              offer_type  \n",
      "            offer_sub_type\n",
      "            campaign_start\n",
      "              campaign_end\n",
      "     voucher_creation_lock\n",
      "                     state\n",
      "                  products\n",
      "                   created\n",
      "              created_by  \n",
      "                   updated\n",
      "                updated_by\n",
      "            redeemed_count\n",
      "    campaign_class_level_1\n",
      "  campaign_class_level_2  \n",
      "      primary_offer_id_int\n",
      "    primary_product_id_int\n",
      "                 territory\n",
      "                  provider\n",
      "       duration_in_seconds\n",
      "                department\n",
      "                       cap\n",
      "       total_voucher_count\n"
     ]
    }
   ],
   "source": [
    "import pandas as pd\n",
    "\n",
    "file = open('Card File Schema.txt', 'r')\n",
    "\n",
    "for line in file.readlines():\n",
    "    fname = line.split(',') #using split to form a list, mention the delimeter you need.\n",
    "#print(fname)\n",
    "\n",
    "df1 = pd.DataFrame(fname,columns=['Columns'])\n",
    "print (df1.to_string(index=False))"
   ]
  },
  {
   "cell_type": "code",
   "execution_count": null,
   "metadata": {},
   "outputs": [],
   "source": []
  }
 ],
 "metadata": {
  "kernelspec": {
   "display_name": "Python 3",
   "language": "python",
   "name": "python3"
  },
  "language_info": {
   "codemirror_mode": {
    "name": "ipython",
    "version": 3
   },
   "file_extension": ".py",
   "mimetype": "text/x-python",
   "name": "python",
   "nbconvert_exporter": "python",
   "pygments_lexer": "ipython3",
   "version": "3.7.3"
  }
 },
 "nbformat": 4,
 "nbformat_minor": 2
}
